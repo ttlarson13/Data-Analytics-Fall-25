{
 "cells": [
  {
   "cell_type": "code",
   "execution_count": 1,
   "id": "f17491a7",
   "metadata": {},
   "outputs": [],
   "source": [
    "from datascience import *\n",
    "import numpy as np\n",
    "\n",
    "%matplotlib inline\n",
    "import matplotlib.pyplot as plots\n",
    "plots.style.use('fivethirtyeight')"
   ]
  },
  {
   "cell_type": "code",
   "execution_count": 3,
   "id": "2952ffaf",
   "metadata": {},
   "outputs": [
    {
     "data": {
      "text/html": [
       "<table border=\"1\" class=\"dataframe\">\n",
       "    <thead>\n",
       "        <tr>\n",
       "            <th>Votes</th> <th>Rating</th> <th>Title</th> <th>Year</th> <th>Decade</th>\n",
       "        </tr>\n",
       "    </thead>\n",
       "    <tbody>\n",
       "        <tr>\n",
       "            <td>88355 </td> <td>8.4   </td> <td>M                  </td> <td>1931</td> <td>1930  </td>\n",
       "        </tr>\n",
       "        <tr>\n",
       "            <td>132823</td> <td>8.3   </td> <td>Singin' in the Rain</td> <td>1952</td> <td>1950  </td>\n",
       "        </tr>\n",
       "        <tr>\n",
       "            <td>74178 </td> <td>8.3   </td> <td>All About Eve      </td> <td>1950</td> <td>1950  </td>\n",
       "        </tr>\n",
       "        <tr>\n",
       "            <td>635139</td> <td>8.6   </td> <td>Léon               </td> <td>1994</td> <td>1990  </td>\n",
       "        </tr>\n",
       "        <tr>\n",
       "            <td>145514</td> <td>8.2   </td> <td>The Elephant Man   </td> <td>1980</td> <td>1980  </td>\n",
       "        </tr>\n",
       "    </tbody>\n",
       "</table>\n",
       "<p>... (245 rows omitted)</p>"
      ],
      "text/plain": [
       "<IPython.core.display.HTML object>"
      ]
     },
     "metadata": {},
     "output_type": "display_data"
    }
   ],
   "source": [
    "imdb = Table.read_table('imdb.csv')\n",
    "imdb.show(5)"
   ]
  },
  {
   "cell_type": "markdown",
   "id": "5b089e0f",
   "metadata": {},
   "source": [
    "# Question 1\n",
    "Find the ten movies released in the year 2000 or later with the highest number of votes according to imdb.csv. Format your answer as a table with columns Title and Votes (in that order) of the three requested movies."
   ]
  },
  {
   "cell_type": "code",
   "execution_count": 34,
   "id": "424c9498",
   "metadata": {},
   "outputs": [
    {
     "data": {
      "text/html": [
       "<table border=\"1\" class=\"dataframe\">\n",
       "    <thead>\n",
       "        <tr>\n",
       "            <th>Votes</th> <th>Title</th>\n",
       "        </tr>\n",
       "    </thead>\n",
       "    <tbody>\n",
       "        <tr>\n",
       "            <td>1271949</td> <td>Inception                                        </td>\n",
       "        </tr>\n",
       "        <tr>\n",
       "            <td>1099087</td> <td>The Lord of the Rings: The Fellowship of the Ring</td>\n",
       "        </tr>\n",
       "        <tr>\n",
       "            <td>1074146</td> <td>The Lord of the Rings: The Return of the King    </td>\n",
       "        </tr>\n",
       "        <tr>\n",
       "            <td>997350 </td> <td>The Dark Knight Rises                            </td>\n",
       "        </tr>\n",
       "        <tr>\n",
       "            <td>967389 </td> <td>The Lord of the Rings: The Two Towers            </td>\n",
       "        </tr>\n",
       "        <tr>\n",
       "            <td>862216 </td> <td>Gladiator                                        </td>\n",
       "        </tr>\n",
       "        <tr>\n",
       "            <td>862016 </td> <td>The Avengers                                     </td>\n",
       "        </tr>\n",
       "        <tr>\n",
       "            <td>850601 </td> <td>Batman Begins                                    </td>\n",
       "        </tr>\n",
       "        <tr>\n",
       "            <td>804729 </td> <td>Django Unchained                                 </td>\n",
       "        </tr>\n",
       "    </tbody>\n",
       "</table>"
      ],
      "text/plain": [
       "Votes   | Title\n",
       "1271949 | Inception\n",
       "1099087 | The Lord of the Rings: The Fellowship of the Ring\n",
       "1074146 | The Lord of the Rings: The Return of the King\n",
       "997350  | The Dark Knight Rises\n",
       "967389  | The Lord of the Rings: The Two Towers\n",
       "862216  | Gladiator\n",
       "862016  | The Avengers\n",
       "850601  | Batman Begins\n",
       "804729  | Django Unchained"
      ]
     },
     "execution_count": 34,
     "metadata": {},
     "output_type": "execute_result"
    }
   ],
   "source": [
    "later_or_2000 = imdb.where(\"Year\", are.above_or_equal_to(2000))\n",
    "votes = later_or_2000.sort(\"Votes\", descending=True)\n",
    "top10 = votes.take(np.arange(1,10))\n",
    "top10v2 = top10.drop(\"Rating\", \"Year\", \"Decade\")\n",
    "top10v2"
   ]
  },
  {
   "cell_type": "markdown",
   "id": "ce5d30cb",
   "metadata": {},
   "source": [
    "# Question 2\n",
    "\n",
    "Create a table with columns Title and Votes containing all movies released in 1999.\n",
    "\n",
    "Next, attach a new column to the table called Percent Votes that contains the percent of votes each movie received when considered among all votes cast for movies released in 1999.\n",
    "\n",
    "For example, if the total number of votes cast for movies released in 1999 is 200 and \"The Matrix\" received 30 of them, then the column Percent Votes corresponding to \"The Matrix\" should 15."
   ]
  },
  {
   "cell_type": "code",
   "execution_count": 66,
   "id": "e52b9dde",
   "metadata": {},
   "outputs": [
    {
     "data": {
      "text/html": [
       "<table border=\"1\" class=\"dataframe\">\n",
       "    <thead>\n",
       "        <tr>\n",
       "            <th>Title</th> <th>Votes</th> <th>Percent</th>\n",
       "        </tr>\n",
       "    </thead>\n",
       "    <tbody>\n",
       "        <tr>\n",
       "            <td>Fight Club     </td> <td>1177098</td> <td>27.4441</td>\n",
       "        </tr>\n",
       "        <tr>\n",
       "            <td>American Beauty</td> <td>735056 </td> <td>17.1379</td>\n",
       "        </tr>\n",
       "        <tr>\n",
       "            <td>The Sixth Sense</td> <td>630994 </td> <td>14.7117</td>\n",
       "        </tr>\n",
       "        <tr>\n",
       "            <td>The Matrix     </td> <td>1073043</td> <td>25.0181</td>\n",
       "        </tr>\n",
       "        <tr>\n",
       "            <td>The Green Mile </td> <td>672878 </td> <td>15.6882</td>\n",
       "        </tr>\n",
       "    </tbody>\n",
       "</table>"
      ],
      "text/plain": [
       "Title           | Votes   | Percent\n",
       "Fight Club      | 1177098 | 27.4441\n",
       "American Beauty | 735056  | 17.1379\n",
       "The Sixth Sense | 630994  | 14.7117\n",
       "The Matrix      | 1073043 | 25.0181\n",
       "The Green Mile  | 672878  | 15.6882"
      ]
     },
     "execution_count": 66,
     "metadata": {},
     "output_type": "execute_result"
    }
   ],
   "source": [
    "movies1999 = imdb.where(\"Year\", are.equal_to(1999))\n",
    "movies1999 = movies1999.select('Title', 'Votes')\n",
    "votes_column = movies1999.column('Votes')\n",
    "total_votes = sum(votes_column)\n",
    "perc_column = votes_column / total_votes * 100\n",
    "movies1999.with_column(\"Percent\", perc_column)"
   ]
  },
  {
   "cell_type": "code",
   "execution_count": null,
   "id": "7642777b",
   "metadata": {},
   "outputs": [],
   "source": []
  }
 ],
 "metadata": {
  "kernelspec": {
   "display_name": "Python 3",
   "language": "python",
   "name": "python3"
  },
  "language_info": {
   "codemirror_mode": {
    "name": "ipython",
    "version": 3
   },
   "file_extension": ".py",
   "mimetype": "text/x-python",
   "name": "python",
   "nbconvert_exporter": "python",
   "pygments_lexer": "ipython3",
   "version": "3.12.1"
  }
 },
 "nbformat": 4,
 "nbformat_minor": 5
}
